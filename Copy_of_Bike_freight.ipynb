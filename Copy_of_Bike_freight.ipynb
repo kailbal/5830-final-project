{
  "nbformat": 4,
  "nbformat_minor": 0,
  "metadata": {
    "colab": {
      "provenance": []
    },
    "kernelspec": {
      "name": "python3",
      "display_name": "Python 3"
    },
    "language_info": {
      "name": "python"
    }
  },
  "cells": [
    {
      "cell_type": "code",
      "source": [
        "import random\n",
        "\n",
        "# create a list of 20 locations with their corresponding populations\n",
        "locations = [('Location 1', 1000),\n",
        "             ('Location 2', 500),\n",
        "             ('Location 3', 2000),\n",
        "             ('Location 4', 700),\n",
        "             ('Location 5', 300),\n",
        "             ('Location 6', 1200),\n",
        "             ('Location 7', 900),\n",
        "             ('Location 8', 800),\n",
        "             ('Location 9', 600),\n",
        "             ('Location 10', 400),\n",
        "             ('Location 11', 1500),\n",
        "             ('Location 12', 100),\n",
        "             ('Location 13', 50),\n",
        "             ('Location 14', 3000),\n",
        "             ('Location 15', 650),\n",
        "             ('Location 16', 1200),\n",
        "             ('Location 17', 400),\n",
        "             ('Location 18', 800),\n",
        "             ('Location 19', 250),\n",
        "             ('Location 20', 1500)]\n",
        "\n",
        "# create a list of weights based on the population of each location\n",
        "weights = [loc[1] for loc in locations]\n",
        "\n",
        "# randomly choose 5 locations from the list of 20, considering the population weight for each location\n",
        "chosen_locations = random.choices(locations, weights=weights, k=5)\n",
        "\n",
        "print(chosen_locations)"
      ],
      "metadata": {
        "colab": {
          "base_uri": "https://localhost:8080/"
        },
        "id": "nSbwt1twggj4",
        "outputId": "6b5b0dab-9455-4f04-bb7b-2d04ccc481a2"
      },
      "execution_count": null,
      "outputs": [
        {
          "output_type": "stream",
          "name": "stdout",
          "text": [
            "[('Location 14', 3000), ('Location 16', 1200), ('Location 14', 3000), ('Location 14', 3000), ('Location 20', 1500)]\n"
          ]
        }
      ]
    },
    {
      "cell_type": "markdown",
      "source": [
        "This code snippet calculates the average slope of a path represented by a set of elevation data using the Haversine formula to calculate the distance between two points.\n",
        "\n",
        "Here are the steps in the code:\n",
        "\n",
        "1. Get the elevation data from the OpenRouteService API response. The elevation data is a list of longitude, latitude, and elevation values for each point in the path.\n",
        "\n",
        "2. Initialize the `elevation_gain` and `distance` variables to zero.\n",
        "\n",
        "3. Loop through the elevation data, calculating the distance between each pair of consecutive points using the Haversine formula. Add the distance to the `distance` variable.\n",
        "\n",
        "4. Calculate the elevation gain between each pair of consecutive points. If the elevation of the second point is greater than that of the first point, add the difference to the `elevation_gain` variable.\n",
        "\n",
        "5. Calculate the average slope by dividing the `elevation_gain` by the `distance`.\n",
        "\n",
        "Note that the elevation data is assumed to be in meters, and the distance is calculated in meters using the Haversine formula. Also, note that the latitude and longitude values are assumed to be in decimal degrees and are converted to radians before being used in the Haversine formula."
      ],
      "metadata": {
        "id": "0CpiWhks4hxJ"
      }
    },
    {
      "cell_type": "code",
      "source": [
        "import requests\n",
        "import json\n",
        "import math\n",
        "\n",
        "\n",
        "# Specify the API endpoint\n",
        "url = \"https://api.openrouteservice.org/v2/directions/{profile}\"\n",
        "\n",
        "# Specify the API parameters\n",
        "# [-111.815286, 41.740988],  # Origin: Richards Hall, Logan, Utah\n",
        "#       [-111.809146, 41.745764]  # Destination: Aggie Village Community Center, Logan, Utah\n",
        "params = {\n",
        "    \"api_key\": \"5b3ce3597851110001cf6248f30fe4690f5d49519f84b304afebdcfd\",\n",
        "     \"start\": \"-111.815286, 41.740988\",\n",
        "     \"end\": \"-111.809146, 41.745764\",\n",
        "    \"profile\": \"cycling-regular\",\n",
        "}\n",
        "\n",
        "# Send the API request\n",
        "response = requests.get(url.format(profile=params[\"profile\"]), params=params)\n",
        "\n",
        "data = response.json()\n",
        "\n",
        "# Extract the travel time and travel distance\n",
        "travel_time = data[\"features\"][0][\"properties\"][\"segments\"][0][\"duration\"]\n",
        "travel_distance = data[\"features\"][0][\"properties\"][\"segments\"][0][\"distance\"]\n",
        "\n",
        "# Extract the elevation data and calculate the average slope\n",
        "elevation_data = data[\"features\"][0][\"geometry\"][\"coordinates\"]\n",
        "elevation_gain = 0\n",
        "distance = 0\n",
        "for i in range(len(elevation_data)-1):\n",
        "    # Calculate the distance between two points using the Haversine formula\n",
        "    lon1, lat1 = elevation_data[i]\n",
        "    lon2, lat2 = elevation_data[i+1]\n",
        "    R = 6371  # Radius of the earth in km\n",
        "    dLat = (lat2-lat1) * (3.14159265359/180)\n",
        "    dLon = (lon2-lon1) * (3.14159265359/180)\n",
        "    a = math.sin(dLat/2) * math.sin(dLat/2) + \\\n",
        "        math.cos((lat1) * (3.14159265359/180)) * math.cos((lat2) * (3.14159265359/180)) * \\\n",
        "        math.sin(dLon/2) * math.sin(dLon/2)\n",
        "    c = 2 * math.atan2(math.sqrt(a), math.sqrt(1-a))\n",
        "    distance += R * c * 1000\n",
        "\n",
        "    # Calculate the elevation gain between two points\n",
        "    elevation1 = elevation_data[i][1]\n",
        "    #print('elevation1=',elevation1)\n",
        "    elevation2 = elevation_data[i+1][1]\n",
        "    #print('elevation2=',elevation2)\n",
        "    if elevation2 > elevation1:\n",
        "        elevation_gain += elevation2 - elevation1\n",
        "\n",
        "\n",
        "    \n",
        "\n",
        "#Extract the average slope\n",
        "#geometry = data[\"features\"][0][\"geometry\"][\"coordinates\"]\n",
        "#slope = sum([((geometry[i+1][1]-geometry[i][1])/((geometry[i+1][0]-geometry[i][0])**2 + (geometry[i+1][1]-geometry[i][1])**2)**0.5) for i in range(len(geometry)-1)]) / (len(geometry)-1)\n",
        "\n",
        "    # Print the results\n",
        "print(\"Travel time: {} seconds\".format(travel_time))\n",
        "print(\"Travel distance: {} meters\".format(travel_distance))\n",
        "print(\"Average slope: {}%\".format(round(slope*100, 10)))"
      ],
      "metadata": {
        "colab": {
          "base_uri": "https://localhost:8080/"
        },
        "id": "nTHzCr2f6gKc",
        "outputId": "f058a997-7d00-4031-e4b7-c3faf7b9a829"
      },
      "execution_count": null,
      "outputs": [
        {
          "output_type": "stream",
          "name": "stdout",
          "text": [
            "Travel time: 271.6 seconds\n",
            "Travel distance: 1073.7 meters\n",
            "Average slope: 0.0004812358%\n"
          ]
        }
      ]
    },
    {
      "cell_type": "code",
      "source": [
        "from datetime import datetime\n",
        "\n",
        "# define the order times when orders tend to increase\n",
        "lunch_time = 12\n",
        "dinner_time = 18\n",
        "\n",
        "# define the list of order times (in hours), assuming a 24-hour clock\n",
        "order_times = [9, 10, 11, 12, 13, 14, 15, 16, 17, 18, 19, 20, 21, 22]\n",
        "\n",
        "# define a dictionary to store the order frequency count for each hour\n",
        "order_frequency = {}\n",
        "for t in order_times:\n",
        "    order_frequency[t] = 0\n",
        "\n",
        "# create a list of simulated order times (in hours), assuming a 24-hour clock\n",
        "simulated_orders = [12, 13, 14, 14, 15, 16, 17, 17, 18, 18, 18, 19, 19, 20, 20, 20, 21, 21, 21, 22]\n",
        "\n",
        "# loop through the simulated order times and increment the order frequency count for each hour\n",
        "for t in simulated_orders:\n",
        "    order_frequency[t] += 1\n",
        "\n",
        "# print the order frequency for each hour, indicating lunch and dinner times\n",
        "for t in order_times:\n",
        "    if t == lunch_time:\n",
        "        print(f\"Lunch hour ({t}): {order_frequency[t]} orders\")\n",
        "    elif t == dinner_time:\n",
        "        print(f\"Dinner hour ({t}): {order_frequency[t]} orders\")\n",
        "    else:\n",
        "        print(f\"Hour {t}: {order_frequency[t]} orders\")"
      ],
      "metadata": {
        "colab": {
          "base_uri": "https://localhost:8080/"
        },
        "id": "cN3vLHnALRHg",
        "outputId": "52e670cd-8c35-44bf-caeb-62176b8b58a6"
      },
      "execution_count": null,
      "outputs": [
        {
          "output_type": "stream",
          "name": "stdout",
          "text": [
            "Hour 9: 0 orders\n",
            "Hour 10: 0 orders\n",
            "Hour 11: 0 orders\n",
            "Lunch hour (12): 1 orders\n",
            "Hour 13: 1 orders\n",
            "Hour 14: 2 orders\n",
            "Hour 15: 1 orders\n",
            "Hour 16: 1 orders\n",
            "Hour 17: 2 orders\n",
            "Dinner hour (18): 3 orders\n",
            "Hour 19: 2 orders\n",
            "Hour 20: 3 orders\n",
            "Hour 21: 3 orders\n",
            "Hour 22: 1 orders\n"
          ]
        }
      ]
    },
    {
      "cell_type": "code",
      "source": [
        "from datetime import datetime\n",
        "\n",
        "# define the order times when orders tend to increase\n",
        "lunch_time = 12\n",
        "dinner_time = 18\n",
        "\n",
        "# define the list of order times (in hours), assuming a 24-hour clock\n",
        "order_times = [9, 10, 11, 12, 13, 14, 15, 16, 17, 18, 19, 20, 21, 22]\n",
        "\n",
        "# define a dictionary to store the order frequency count for each hour\n",
        "order_frequency = {}\n",
        "for t in order_times:\n",
        "    order_frequency[t] = 0\n",
        "\n",
        "# create a list of simulated order times (in hours), assuming a 24-hour clock\n",
        "simulated_orders = [12, 13, 14, 14, 15, 16, 17, 17, 18, 18, 18, 19, 19, 20, 20, 20, 21, 21, 21, 22]\n",
        "\n",
        "# loop through the simulated order times and increment the order frequency count for each hour\n",
        "for t in simulated_orders:\n",
        "    order_frequency[t] += 1\n",
        "\n",
        "# print the order frequency for each hour, indicating lunch and dinner times\n",
        "for t in order_times:\n",
        "    if t == lunch_time:\n",
        "        print(f\"Lunch hour ({t}): {order_frequency[t]} orders\")\n",
        "    elif t == dinner_time:\n",
        "        print(f\"Dinner hour ({t}): {order_frequency[t]} orders\")\n",
        "    else:\n",
        "        print(f\"Hour {t}: {order_frequency[t]} orders\")"
      ],
      "metadata": {
        "colab": {
          "base_uri": "https://localhost:8080/"
        },
        "id": "5ejLnsTFLgAY",
        "outputId": "77bfa374-3db7-4a9f-c009-b7e14857b5a6"
      },
      "execution_count": null,
      "outputs": [
        {
          "output_type": "stream",
          "name": "stdout",
          "text": [
            "Hour 9: 0 orders\n",
            "Hour 10: 0 orders\n",
            "Hour 11: 0 orders\n",
            "Lunch hour (12): 1 orders\n",
            "Hour 13: 1 orders\n",
            "Hour 14: 2 orders\n",
            "Hour 15: 1 orders\n",
            "Hour 16: 1 orders\n",
            "Hour 17: 2 orders\n",
            "Dinner hour (18): 3 orders\n",
            "Hour 19: 2 orders\n",
            "Hour 20: 3 orders\n",
            "Hour 21: 3 orders\n",
            "Hour 22: 1 orders\n"
          ]
        }
      ]
    },
    {
      "cell_type": "code",
      "source": [
        "import random\n",
        "from datetime import datetime\n",
        "\n",
        "# define the order times when orders tend to increase\n",
        "lunch_time = 12\n",
        "dinner_time = 18\n",
        "\n",
        "# define the list of order times (in hours), assuming a 24-hour clock\n",
        "order_times = [9, 10, 11, 12, 13, 14, 15, 16, 17, 18, 19, 20, 21, 22]\n",
        "\n",
        "# define a dictionary to store the order frequency count for each hour\n",
        "order_frequency = {}\n",
        "for t in order_times:\n",
        "    order_frequency[t] = 0\n",
        "\n",
        "# define a weighted probability function for each hour of the day\n",
        "def prob_dist(hour):\n",
        "    if hour == lunch_time:\n",
        "        return 0.4\n",
        "    elif hour == dinner_time:\n",
        "        return 0.6\n",
        "    else:\n",
        "        return 0.2\n",
        "\n",
        "# simulate order frequency counts for a specified number of days\n",
        "num_days = 7\n",
        "for i in range(num_days):\n",
        "    for t in order_times:\n",
        "        # randomly generate a value between 0 and 1 and check if it is less than the probability distribution for the given hour\n",
        "        if random.random() < prob_dist(t):\n",
        "            order_frequency[t] += 1\n",
        "\n",
        "# print the order frequency for each hour, indicating lunch and dinner times\n",
        "for t in order_times:\n",
        "    if t == lunch_time:\n",
        "        print(f\"Lunch hour ({t}): {order_frequency[t]} orders\")\n",
        "    elif t == dinner_time:\n",
        "        print(f\"Dinner hour ({t}): {order_frequency[t]} orders\")\n",
        "    else:\n",
        "        print(f\"Hour {t}: {order_frequency[t]} orders\")"
      ],
      "metadata": {
        "colab": {
          "base_uri": "https://localhost:8080/"
        },
        "id": "C8GmHucmMb2s",
        "outputId": "510c082c-3a2f-428f-933c-db7481899326"
      },
      "execution_count": null,
      "outputs": [
        {
          "output_type": "stream",
          "name": "stdout",
          "text": [
            "Hour 9: 2 orders\n",
            "Hour 10: 1 orders\n",
            "Hour 11: 2 orders\n",
            "Lunch hour (12): 3 orders\n",
            "Hour 13: 1 orders\n",
            "Hour 14: 2 orders\n",
            "Hour 15: 2 orders\n",
            "Hour 16: 1 orders\n",
            "Hour 17: 1 orders\n",
            "Dinner hour (18): 5 orders\n",
            "Hour 19: 2 orders\n",
            "Hour 20: 2 orders\n",
            "Hour 21: 0 orders\n",
            "Hour 22: 1 orders\n"
          ]
        }
      ]
    },
    {
      "cell_type": "code",
      "source": [
        "import random\n",
        "from datetime import datetime\n",
        "\n",
        "# define the order times when orders tend to increase\n",
        "lunch_time = 12\n",
        "dinner_time = 18\n",
        "\n",
        "# define the list of order times (in hours), assuming a 24-hour clock\n",
        "order_times = [9, 10, 11, 12, 13, 14, 15, 16, 17, 18, 19, 20, 21, 22]\n",
        "\n",
        "# define a dictionary to store the order frequency count for each hour\n",
        "order_frequency = {}\n",
        "for t in order_times:\n",
        "    order_frequency[t] = 0\n",
        "\n",
        "# define a weighted probability function for each hour of the day\n",
        "def prob_dist(hour):\n",
        "    if hour == lunch_time or hour == lunch_time+2:\n",
        "        return 0.5\n",
        "    elif hour == dinner_time or hour == dinner_time+1:\n",
        "        return 0.5\n",
        "    else:\n",
        "        return 0.2\n",
        "\n",
        "# simulate order frequency counts for a specified number of days\n",
        "num_days = 7\n",
        "for i in range(num_days):\n",
        "    for t in order_times:\n",
        "        # randomly generate a value between 0 and 1 and check if it is less than the probability distribution for the given hour\n",
        "        if random.random() < prob_dist(t):\n",
        "            order_frequency[t] += 1\n",
        "\n",
        "# print the order frequency for each hour, indicating lunch and dinner times\n",
        "for t in order_times:\n",
        "    if t == lunch_time:\n",
        "        print(f\"Lunch hour ({t}): {order_frequency[t]} orders\")\n",
        "    elif t == dinner_time:\n",
        "        print(f\"Dinner hour ({t}): {order_frequency[t]} orders\")\n",
        "    else:\n",
        "        print(f\"Hour {t}: {order_frequency[t]} orders\")"
      ],
      "metadata": {
        "colab": {
          "base_uri": "https://localhost:8080/"
        },
        "id": "E-bX35QvMpIK",
        "outputId": "340eaf49-48c1-4e1b-b39c-3abc93b972be"
      },
      "execution_count": null,
      "outputs": [
        {
          "output_type": "stream",
          "name": "stdout",
          "text": [
            "Hour 9: 1 orders\n",
            "Hour 10: 2 orders\n",
            "Hour 11: 2 orders\n",
            "Lunch hour (12): 3 orders\n",
            "Hour 13: 2 orders\n",
            "Hour 14: 3 orders\n",
            "Hour 15: 4 orders\n",
            "Hour 16: 0 orders\n",
            "Hour 17: 3 orders\n",
            "Dinner hour (18): 4 orders\n",
            "Hour 19: 2 orders\n",
            "Hour 20: 1 orders\n",
            "Hour 21: 1 orders\n",
            "Hour 22: 2 orders\n"
          ]
        }
      ]
    }
  ]
}