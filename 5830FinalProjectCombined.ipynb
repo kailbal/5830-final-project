{
  "cells": [
    {
      "cell_type": "markdown",
      "metadata": {
        "id": "ZnNbCe7epWXA"
      },
      "source": [
        "#Import data and select population and TAZ ID"
      ]
    },
    {
      "cell_type": "code",
      "execution_count": null,
      "metadata": {
        "id": "RUpO6mew-ZUP"
      },
      "outputs": [],
      "source": [
        "import pandas as pd"
      ]
    },
    {
      "cell_type": "code",
      "execution_count": null,
      "metadata": {
        "id": "DgOowBla9tFD"
      },
      "outputs": [],
      "source": [
        "# from google.colab import drive\n",
        "# drive.mount('/content/drive')"
      ]
    },
    {
      "cell_type": "code",
      "execution_count": null,
      "metadata": {
        "id": "IDpRO_Ry9t5r"
      },
      "outputs": [],
      "source": [
        "# %cd \"/content/drive/MyDrive/CS\"\n",
        "# %ls "
      ]
    },
    {
      "cell_type": "code",
      "execution_count": null,
      "metadata": {
        "id": "c_jerXO1mrTv"
      },
      "outputs": [],
      "source": [
        "#Data link\n",
        "#https://drive.google.com/file/d/1N0Bvhuh-0LQL2VQO70mE0dlGp9zK1Msl/view?usp=sharing"
      ]
    },
    {
      "cell_type": "code",
      "execution_count": null,
      "metadata": {
        "id": "v_neJXRU9wMO"
      },
      "outputs": [],
      "source": [
        "df1 = pd.read_csv(\"lat_lon_3miles_TAZ.csv\")\n",
        "#df1.head()\n",
        "#df1.info()"
      ]
    },
    {
      "cell_type": "code",
      "execution_count": null,
      "metadata": {
        "id": "o53ba270-pad"
      },
      "outputs": [],
      "source": [
        "df2=df1[['OBJECTID','CityArea','TAZID','YEAR2023', 'lat_','lon_']]\n",
        "df=df2[df2.YEAR2023 > 30]"
      ]
    },
    {
      "cell_type": "markdown",
      "metadata": {
        "id": "JNj6hPI3mjGi"
      },
      "source": [
        "#Function of destination choose\n",
        "\n",
        "Chooses random locations based on their population weights."
      ]
    },
    {
      "cell_type": "code",
      "execution_count": null,
      "metadata": {
        "id": "b3F_LzN2-de8"
      },
      "outputs": [],
      "source": [
        "import random\n",
        "\n",
        "def choose_locations(n):\n",
        "  # Create a list of weights based on the value of YEAR2023 for each observation\n",
        "  weights = list(df['YEAR2023'])\n",
        "\n",
        "  # Get the integer TAZIDs as a list\n",
        "  tazids = df['TAZID'].tolist()\n",
        "\n",
        "  # Choose n locations randomly, considering the population weight for each location\n",
        "  chosen_tazids = random.choices(tazids, weights=weights, k=n)\n",
        "\n",
        "  # Print the chosen TAZIDs\n",
        "  print('chosen_tazids=',chosen_tazids)\n",
        "  print('')\n",
        "\n",
        "  # Subset the rows in the DataFrame that correspond to the selected TAZIDs, and extract lat_ and lon_\n",
        "  lat_lon_pairs = []\n",
        "  for tazid in chosen_tazids:\n",
        "    row = df.loc[df['TAZID'] == tazid]\n",
        "    lat = row['lat_'].values[0]\n",
        "    lon = row['lon_'].values[0]\n",
        "    lat_lon_pairs.append((lat, lon))\n",
        "\n",
        "  # Print the chosen (lat, lon) pairs\n",
        "  #print(lat_lon_pairs)\n",
        "  return chosen_tazids, lat_lon_pairs"
      ]
    },
    {
      "cell_type": "markdown",
      "metadata": {
        "id": "ttePT3wMm1z6"
      },
      "source": [
        "#Function of read API and get travel time,distance and slope for bicycle mode"
      ]
    },
    {
      "cell_type": "code",
      "execution_count": null,
      "metadata": {
        "id": "R1YvGtKJmxBh"
      },
      "outputs": [],
      "source": [
        "#create a function called get_route_info that takes two inputs: the start point and end point as tuples of latitude and longitude. \n",
        "\n",
        "import requests\n",
        "import json\n",
        "import math\n",
        "\n",
        "\n",
        "def get_route_info(start_point, end_point, profile):\n",
        "    # Specify the API endpoint\n",
        "    url = \"https://api.openrouteservice.org/v2/directions/{profile}\"\n",
        "\n",
        "\n",
        "    params = {\n",
        "        \"api_key\": \"5b3ce3597851110001cf624879353a62e64d48bfbfd041d761fba9bd\",\n",
        "        \"start\": f\"{start_point[1]},{start_point[0]}\",\n",
        "        \"end\": f\"{end_point[1]},{end_point[0]}\",\n",
        "        \"profile\": profile,\n",
        "        \"preference\": \"fastest\",\n",
        "    }\n",
        "\n",
        "\n",
        "    # Send the API request\n",
        "    response = requests.get(url.format(profile=params[\"profile\"]), params=params)\n",
        "\n",
        "    data = response.json()\n",
        "    #print(data)\n",
        "\n",
        "    # Extract the travel time and travel distance\n",
        "    travel_time = data[\"features\"][0][\"properties\"][\"segments\"][0][\"duration\"]\n",
        "    travel_distance = data[\"features\"][0][\"properties\"][\"segments\"][0][\"distance\"]\n",
        "\n",
        "    # Extract the elevation data and calculate the average slope\n",
        "    elevation_data = data[\"features\"][0][\"geometry\"][\"coordinates\"]\n",
        "    elevation_gain = 0\n",
        "    elevation_down = 0\n",
        "    distance = 0\n",
        "    for i in range(len(elevation_data)-1):\n",
        "        # Calculate the distance between two points using the Haversine formula\n",
        "        lon1, lat1 = elevation_data[i]\n",
        "        lon2, lat2 = elevation_data[i+1]\n",
        "        R = 6371  # Radius of the earth in km\n",
        "        dLat = (lat2-lat1) * (math.pi/180)\n",
        "        dLon = (lon2-lon1) * (math.pi/180)\n",
        "        a = math.sin(dLat/2) * math.sin(dLat/2) + \\\n",
        "            math.cos((lat1) * (math.pi/180)) * math.cos((lat2) * (math.pi/180)) * \\\n",
        "            math.sin(dLon/2) * math.sin(dLon/2)\n",
        "        c = 2 * math.atan2(math.sqrt(a), math.sqrt(1-a))\n",
        "        distance += R * c * 1000\n",
        "\n",
        "        # Calculate the elevation gain between two points\n",
        "        elevation1 = elevation_data[i][1]\n",
        "        elevation2 = elevation_data[i+1][1]\n",
        "        if elevation2 > elevation1:\n",
        "            elevation_gain += elevation2 - elevation1\n",
        "        else:\n",
        "            elevation_down += elevation1 - elevation2\n",
        "\n",
        "    # Calculate the average slope\n",
        "    slope = elevation_gain / distance\n",
        "\n",
        "    return travel_time, travel_distance, slope, elevation_gain, elevation_down, data\n",
        "\n",
        "#start = (41.75312339358314, -111.83486333648153)\n",
        "#start = (41.740988, -111.815286)  # Richards Hall, Logan, Utah\n",
        "#end = (41.745764, -111.809146)  # Aggie Village Community Center, Logan, Utah\n",
        "#travel_time, travel_distance, elevation_gain = get_route_info(start, end)\n",
        "\n",
        "# Print the results\n",
        "#print(\"Travel time: {} seconds\".format(travel_time))\n",
        "#print(\"Travel distance: {} meters\".format(travel_distance))\n",
        "#print(\"Elevation gain: {} meters\".format(elevation_gain))\n"
      ]
    },
    {
      "cell_type": "code",
      "execution_count": null,
      "metadata": {
        "id": "UYdv0HrhbVgs"
      },
      "outputs": [],
      "source": [
        "!pip install folium"
      ]
    },
    {
      "cell_type": "markdown",
      "metadata": {
        "id": "BQMQWO8fpYDd"
      },
      "source": [
        "##Plot map"
      ]
    },
    {
      "cell_type": "code",
      "execution_count": null,
      "metadata": {
        "id": "K3Z7NfudbMQY"
      },
      "outputs": [],
      "source": [
        "import os\n",
        "import folium\n",
        "\n",
        "def plot_route(data, route_map, index):\n",
        "\n",
        "    # Extract coordinates for the route\n",
        "    coordinates = data['features'][0]['geometry']['coordinates']\n",
        "\n",
        "    # Add the route polyline to the map\n",
        "    folium.PolyLine(\n",
        "        locations=[[coord[1], coord[0]] for coord in coordinates],\n",
        "        color='blue',\n",
        "        weight=5,\n",
        "        opacity=0.7\n",
        "    ).add_to(route_map)\n",
        "\n",
        "    # Add start and end markers\n",
        "    folium.Marker(\n",
        "        location=[start_point[0], start_point[1]],\n",
        "        icon=folium.Icon(color='green', icon='flag')\n",
        "    ).add_to(route_map)\n",
        "    # Add end markers and popup lable to show the route index\n",
        "    folium.Marker(\n",
        "        location=[end_point[0], end_point[1]],\n",
        "        icon=folium.Icon(color='red', icon='flag'),\n",
        "        popup=f\"Route #{index}\"\n",
        "    ).add_to(route_map)\n",
        "\n",
        "\n",
        "\n",
        "\n",
        "\n",
        "    # Add label with route index to the midpoint and end of the route\n",
        "\n",
        "    midpoint_index = len(coordinates) // 2\n",
        "    midpoint = [coordinates[midpoint_index][1], coordinates[midpoint_index][0]]\n",
        "    \n",
        "    folium.map.Marker(\n",
        "        location=midpoint,\n",
        "        icon=folium.DivIcon(\n",
        "            icon_size=(150,36),\n",
        "            icon_anchor=(75,18),\n",
        "            html=f'<div style=\"font-size: 18pt; font-weight:bold; text-align:center; color:navy;\">{index}</div>',\n",
        "        )\n",
        "    ).add_to(route_map)\n",
        "    \n",
        "    \n",
        "    folium.map.Marker(\n",
        "        location=[end_point[0], end_point[1]],\n",
        "        icon=folium.DivIcon(\n",
        "            icon_size=(150,36),\n",
        "            icon_anchor=(75,18),\n",
        "            html=f'<div style=\"font-size: 24pt; font-weight:bold; text-align:center; color:purple;\">{index}</div>',\n",
        "        )\n",
        "    ).add_to(route_map)\n",
        "\n",
        "\n",
        "  \n",
        "\n",
        "    return route_map"
      ]
    },
    {
      "cell_type": "code",
      "source": [
        "import os\n",
        "import folium\n",
        "def single_plot_route(data):\n",
        "\n",
        "    # Extract coordinates for the route\n",
        "    coordinates = data['features'][0]['geometry']['coordinates']\n",
        "\n",
        "    # Calculate the mid-point for the map center\n",
        "    mid_point = len(coordinates) // 2\n",
        "    map_center = [coordinates[mid_point][1], coordinates[mid_point][0]]\n",
        "\n",
        "    # Create a folium map\n",
        "    single_route_map = folium.Map(location=map_center, zoom_start=14)\n",
        "\n",
        "    # Add the route polyline to the map\n",
        "    folium.PolyLine(\n",
        "        locations=[[coord[1], coord[0]] for coord in coordinates],\n",
        "        color='blue',\n",
        "        weight=5,\n",
        "        opacity=0.7\n",
        "    ).add_to(single_route_map)\n",
        "\n",
        "    # Add start and end markers\n",
        "    folium.Marker(\n",
        "        location=[start_point[0], start_point[1]],\n",
        "        icon=folium.Icon(color='green', icon='flag')\n",
        "    ).add_to(single_route_map)\n",
        "\n",
        "\n",
        "\n",
        "\n",
        "    folium.Marker(\n",
        "        location=[end_point[0], end_point[1]],\n",
        "        icon=folium.Icon(color='red', icon='flag')\n",
        "    ).add_to(single_route_map)\n",
        "\n",
        "  \n",
        "\n",
        "    return single_route_map\n",
        "\n"
      ],
      "metadata": {
        "id": "P8Uy9Li8H9DE"
      },
      "execution_count": null,
      "outputs": []
    },
    {
      "cell_type": "markdown",
      "metadata": {
        "id": "NCQFy1A8nE5B"
      },
      "source": [
        "# Time-series of orders per day"
      ]
    },
    {
      "cell_type": "code",
      "execution_count": null,
      "metadata": {
        "id": "iOwnNa3znFaf"
      },
      "outputs": [],
      "source": [
        "#Time series\n",
        "#This code ensures that the total number of orders per day is a random number between 20 and 30\n",
        "\n",
        "import random\n",
        "from datetime import datetime\n",
        "import pandas as pd\n",
        "\n",
        "# define the order times when orders tend to increase\n",
        "lunch_time = 12\n",
        "dinner_time = 18\n",
        "\n",
        "# define the list of order times (in hours), assuming a 24-hour clock\n",
        "# this one conflicts with the times we use later\n",
        "# order_times = [11, 11.50, 12, 12.5, 13, 13.5, 14, 14.5, 15, 15.5, 16, 16.5, 17, 17.5, 18, 18.5, 19, 19.5, 20, 20.5, 21]\n",
        "order_times = [11, 12, 13, 14, 15, 16, 17, 18, 19, 20, 21]\n",
        "\n",
        "# define a dictionary to store the order frequency count for each hour\n",
        "order_frequency = {}\n",
        "for t in order_times:\n",
        "    order_frequency[t] = 0\n",
        "\n",
        "# define a weighted probability function for each hour of the day\n",
        "def prob_dist(hour):\n",
        "    if hour == lunch_time or hour == lunch_time+2:\n",
        "        return 0.5\n",
        "    elif hour == dinner_time or hour == dinner_time+1:\n",
        "        return 0.5\n",
        "    else:\n",
        "        return 0.2\n",
        "\n",
        "# simulate order frequency counts for a specified number of days\n",
        "num_days = 1\n",
        "for i in range(num_days):\n",
        "    total_orders_per_day = random.randint(20, 30)\n",
        "    orders_placed = 0\n",
        "\n",
        "    while orders_placed < total_orders_per_day:\n",
        "        for t in order_times:\n",
        "            # randomly generate a value between 0 and 1 and check if it is less than the probability distribution for the given hour\n",
        "            if random.random() < prob_dist(t):\n",
        "                order_frequency[t] += 1\n",
        "                orders_placed += 1\n",
        "\n",
        "                if orders_placed >= total_orders_per_day:\n",
        "                    break\n",
        "\n",
        "# print the order frequency for each hour, indicating lunch and dinner times\n",
        "for t in order_times:\n",
        "    if t == lunch_time:\n",
        "        print(f\"Lunch hour ({t}): {order_frequency[t]} orders\")\n",
        "    elif t == dinner_time:\n",
        "        print(f\"Dinner hour ({t}): {order_frequency[t]} orders\")\n",
        "    else:\n",
        "        print(f\"Hour {t}: {order_frequency[t]} orders\")\n",
        "print('total_orders_per_day=',total_orders_per_day)\n",
        "# create a pandas data-frame to store the order frequency for each hour\n",
        "dt = pd.DataFrame.from_dict(order_frequency, orient='index', columns=['orders'])\n",
        "\n",
        "# add a column to indicate lunch and dinner times\n",
        "dt['time'] = [ f\"{t}\" for t in dt.index]\n",
        "\n",
        "# print the data-frame\n",
        "print(dt)"
      ]
    },
    {
      "cell_type": "markdown",
      "metadata": {
        "id": "fypBemq7nZLD"
      },
      "source": [
        "# Calling functions and derive travel information for the time series"
      ]
    },
    {
      "cell_type": "markdown",
      "metadata": {
        "id": "Kr1EBcb8C-Rq"
      },
      "source": [
        "Conventional bike average:  0.055-0.077 lb CO2e per mile\n",
        "\n",
        "Ebike average: 0.046-0.055 lb CO2e per mile.\n",
        "\n",
        "https://eponline.com/articles/2023/01/13/environmental-impact-of-bikes-and-e-bikes.aspx"
      ]
    },
    {
      "cell_type": "code",
      "execution_count": null,
      "metadata": {
        "id": "A21OnL5S-tOW"
      },
      "outputs": [],
      "source": [
        "def calculate_emissions(distance, profile):\n",
        "    distance_in_miles = distance / 1609.344\n",
        "    emissions_per_mile = 0\n",
        "    if profile == \"car\":\n",
        "      emissions_per_mile = 0.485 # in lbs of CO2\n",
        "    elif profile == \"ebike\":\n",
        "      emissions_per_mile = 0.046 # in lbs of CO2\n",
        "    else:\n",
        "      emissions_per_mile = 0.0727525\n",
        "    emissions = distance_in_miles * emissions_per_mile\n",
        "    return emissions"
      ]
    },
    {
      "cell_type": "code",
      "source": [
        "!pip install xlsxwriter"
      ],
      "metadata": {
        "id": "tT6iCyxLI2HO"
      },
      "execution_count": null,
      "outputs": []
    },
    {
      "cell_type": "code",
      "execution_count": null,
      "metadata": {
        "id": "JCLr0qbLnhmb"
      },
      "outputs": [],
      "source": [
        "import time as tm\n",
        "import datetime\n",
        "import string\n",
        "import datetime\n",
        "import os\n",
        "import xlsxwriter\n",
        "import openpyxl\n",
        "import pandas as pd\n",
        "\n",
        "output_data = pd.DataFrame(columns=['hour', 'start_lat', 'start_lon', 'end_lat', 'end_lon', 'travel_time', 'travel_distance', 'average_slope'])\n",
        "timestamp = datetime.datetime.now().strftime('%Y-%m-%d_%H-%M-%S')\n",
        "os.mkdir(os.path.join(os.getcwd(), timestamp)) # creates the directory with the timestamp\n",
        "\n",
        "#start_lat_lon = (41.71391, -111.83517) #South branch of Domino Pizza\n",
        "start_point = (41.75312339358314, -111.83486333648153)  # North branch of Domino Pizza\n",
        "\n",
        "output_data_list = []\n",
        "\n",
        "date = datetime.date(2022, 1, 1)\n",
        "nn=0\n",
        "route_map = folium.Map(location=[start_point[0], start_point[1]], zoom_start=14)\n",
        "\n",
        "for j in range(len(dt)):\n",
        "    print('--------------------------------------------------------------')\n",
        "#    print('n orders for hour', dt.time.iloc[j], 'is=', dt.orders.iloc[j])\n",
        "\n",
        "    chosen, lat_lon_pairs = choose_locations(dt.orders.iloc[j])\n",
        "    for i in range(len(lat_lon_pairs)):\n",
        "        end_point = lat_lon_pairs[i]\n",
        "        time = datetime.time(int(dt.time.iloc[j]))\n",
        "        dtime = datetime.datetime.combine(date, time)\n",
        "        travel_time, travel_distance, slope, elevation_gain, elevation_down, data = get_route_info(start_point, end_point, \"cycling-regular\")\n",
        "        tm.sleep(2)\n",
        "        car_travel_time, car_travel_distance, slopec, car_elevation_gain, car_elevation_down, datac = get_route_info(start_point, end_point, \"driving-car\")\n",
        "        tm.sleep(2)\n",
        "        ebike_travel_time, ebike_travel_distance, slopee, ebike_elevation_gain, ebike_elevation_down, datae = get_route_info(start_point, end_point, \"cycling-electric\")\n",
        "        tm.sleep(2)\n",
        "\n",
        "        route_map = plot_route(data, route_map, nn) #call combined map function\n",
        "        nn += 1\n",
        "\n",
        "        # Generate plot and save to \"maps\" directory\n",
        "        # route_map = plot_route(data)\n",
        "        #file_path = f\"D:/maps/route_map_{i}.html\"\n",
        "        #route_map.save(file_path)\n",
        "\n",
        "        # Print the results\n",
        "        # print(f\"From ({start_lat_lon[0]}, {start_lat_lon[1]}) to ({end_lat_lon[0]}, {end_lat_lon[1]})\")\n",
        "        # print(\"Travel time: {} seconds\".format(travel_time))\n",
        "        # print(\"Travel distance: {} meters\".format(travel_distance))\n",
        "        # print(\"Average slope: {}%\".format(round(slope*100, 10)))\n",
        "        # print('')\n",
        "\n",
        "        car_emissions = calculate_emissions(travel_distance, \"car\")\n",
        "        ebike_emissions = calculate_emissions(ebike_travel_distance, \"ebike\")\n",
        "        bike_emissions = calculate_emissions(travel_distance, \"bike\")\n",
        "        # Add the results to the output_data DataFrame\n",
        "        output_data_list.append({\n",
        "           'hour': dt.time.iloc[j],\n",
        "           'tazid': chosen[i],\n",
        "           'start_lat': start_point[0],\n",
        "           'start_lon': start_point[1],\n",
        "           'end_lat': end_point[0],\n",
        "           'end_lon': end_point[1],\n",
        "           'travel_time': travel_time,\n",
        "           'travel_distance': travel_distance,\n",
        "           'elevation_gain': elevation_gain,\n",
        "           'elevation_down': elevation_down,\n",
        "           'average_slope': round(slope * 100, 10),\n",
        "           'bike_emissions': bike_emissions,\n",
        "           'ebike_emissions': ebike_emissions,\n",
        "           'car_emissions': car_emissions,\n",
        "           'car_travel_time': car_travel_time,\n",
        "           'car_travel_distance': car_travel_distance,\n",
        "           'car_elevation_gain': car_elevation_gain,\n",
        "           'car_elevation_down': car_elevation_down,\n",
        "           'car_average_slope': round(slopec * 100, 10),\n",
        "           'ebike_travel_time': ebike_travel_time,\n",
        "           'ebike_travel_distance': ebike_travel_distance,\n",
        "           'ebike_elevation_gain': ebike_elevation_gain,\n",
        "           'ebike_elevation_down': ebike_elevation_down,\n",
        "           'ebike_average_slope': slopee,\n",
        "        })\n",
        "\n",
        "output_data = pd.concat([output_data, pd.DataFrame(output_data_list)])\n",
        "#print('******************************************************************')\n",
        "print(output_data)\n",
        "# Save the output_data DataFrame as an Excel file\n",
        "#output_data.to_excel('output_data.xlsx', index=False)"
      ]
    },
    {
      "cell_type": "code",
      "source": [
        "# Create directory if it doesn't exist\n",
        "default_dir_name = 'data_15_april_1'\n",
        "if not os.path.exists(default_dir_name):\n",
        "    os.makedirs(default_dir_name)\n",
        "\n",
        "# Get directory name input from user\n",
        "dir_name = input(\"Enter directory name for saving excel data (press enter to use default directory '\" + default_dir_name + \"'): \")\n",
        "\n",
        "# Get the sheet number input from the user\n",
        "#sheet_num = input(\"Enter sheet number for saving the output: \")\n",
        "\n",
        "# Use default directory name if user input is empty\n",
        "if not dir_name:\n",
        "    dir_name = default_dir_name\n",
        "\n",
        "# Create directory if it doesn't exist\n",
        "if not os.path.exists(dir_name):\n",
        "    os.makedirs(dir_name)\n",
        "\n",
        "# Save the combined map to an HTML file\n",
        "\n",
        "\n",
        "# Save the combined map to a new HTML file with the timestamp in the filename\n",
        "path = os.path.join(dir_name, \"combined_routes_\" + timestamp + \".html\")\n",
        "route_map.save(path)\n",
        "\n",
        "# Construct the output file path using the input directory name and file name\n",
        "file_path_data = os.path.join(dir_name, \"output_data.xlsx\")\n",
        "\n",
        "# Load the existing Excel file if it exists, otherwise create a new one\n",
        "try:\n",
        "    book = openpyxl.load_workbook(file_path_data)\n",
        "except FileNotFoundError:\n",
        "    book = openpyxl.Workbook()\n",
        "\n",
        "# Check if the sheet already exists and delete it if it does\n",
        "#if 'Sheet' + str(sheet_num) in book.sheetnames:\n",
        "#    book.remove(book['Sheet' + str(sheet_num)])\n",
        "\n",
        "# Create a new sheet and write the data frame to it\n",
        "writer = pd.ExcelWriter(file_path_data, engine='openpyxl')\n",
        "writer.book = book\n",
        "output_data.to_excel(writer, sheet_name='Sheet' + str(writer.sheets.keys().__len__()+1), index=True)\n",
        "\n",
        "# Save the changes and close the writer\n",
        "writer.save()\n",
        "writer.close()\n",
        "\n",
        "# Confirm that the new data has been added to the Excel file in the new sheet\n",
        "print(\"The default directory is: \" + os.getcwd())\n",
        "print('Data has been saved to sheet ' + str(writer.sheets.keys().__len__()) + ' in file: ' + file_path_data)\n",
        "print(\"The combined_map has been plotted at: \" + path)\n",
        "#print(\"single maps have been plotted at: \" + file_path)"
      ],
      "metadata": {
        "id": "A2IlQwr6IY_Y"
      },
      "execution_count": null,
      "outputs": []
    },
    {
      "cell_type": "code",
      "execution_count": null,
      "metadata": {
        "id": "QWNOVVA5kS6o"
      },
      "outputs": [],
      "source": [
        "output_data.shape"
      ]
    },
    {
      "cell_type": "code",
      "execution_count": null,
      "metadata": {
        "id": "Cb4MvXYlkGbO"
      },
      "outputs": [],
      "source": [
        "graph_df = output_data.copy()"
      ]
    },
    {
      "cell_type": "code",
      "execution_count": null,
      "metadata": {
        "id": "mkQeWLdj_joA"
      },
      "outputs": [],
      "source": [
        "output_data = pd.concat([output_data, pd.DataFrame(output_data_list)])\n",
        "print('******************************************************************')\n",
        "output_data.columns.values"
      ]
    },
    {
      "cell_type": "code",
      "execution_count": null,
      "metadata": {
        "id": "u-WwToGDDcqF"
      },
      "outputs": [],
      "source": [
        "output_data['time_diff'] = output_data['car_travel_time'] - output_data['travel_time']"
      ]
    },
    {
      "cell_type": "code",
      "execution_count": null,
      "metadata": {
        "id": "_tuzLL1QDftb"
      },
      "outputs": [],
      "source": [
        "import matplotlib.pyplot as plt\n",
        "\n",
        "# Generate scatter plot\n",
        "fig, ax = plt.subplots()\n",
        "ax.scatter(output_data['car_travel_time'], output_data['travel_time'], c=['green' if diff >= -300 else 'red' for diff in output_data['time_diff']])\n",
        "\n",
        "# Set axis labels and title\n",
        "ax.set_xlabel('Car Travel Time (s)')\n",
        "ax.set_ylabel('Bike Travel Time (s)')\n",
        "ax.set_title('Bike vs Car Travel Times')\n"
      ]
    },
    {
      "cell_type": "code",
      "execution_count": null,
      "metadata": {
        "id": "puoUA09rK4Qv"
      },
      "outputs": [],
      "source": [
        "import matplotlib.pyplot as plt\n",
        "\n",
        "# Generate scatter plot\n",
        "fig, ax = plt.subplots()\n",
        "ax.scatter(output_data['car_travel_time'], output_data['ebike_travel_time'], c=['green' if diff >= -300 else 'red' for diff in output_data['time_diff']])\n",
        "\n",
        "# Set axis labels and title\n",
        "ax.set_xlabel('Car Travel Time (s)')\n",
        "ax.set_ylabel('Bike Travel Time (s)')\n",
        "ax.set_title('Bike vs Car Travel Times')\n"
      ]
    },
    {
      "cell_type": "code",
      "execution_count": null,
      "metadata": {
        "id": "S8tMhFuF-wCj"
      },
      "outputs": [],
      "source": [
        "import matplotlib.pyplot as plt\n",
        "\n",
        "# Generate scatter plot\n",
        "fig, ax = plt.subplots()\n",
        "#ax.scatter(output_data['car_travel_time'], output_data['ebike_travel_time'], c=['green' if diff >= -180 else 'red' for diff in output_data['time_diff']])\n",
        "import seaborn as sns\n",
        "\n",
        "sns.barplot(data=output_data[['car_travel_time', 'ebike_travel_time', 'travel_time']])\n",
        "# Set axis labels and title\n",
        "ax.set_xlabel('Transportation Type')\n",
        "ax.set_ylabel('Travel Time (s)')\n",
        "ax.set_title('Average Travel Times')\n",
        "\n",
        "plt.show()"
      ]
    },
    {
      "cell_type": "code",
      "execution_count": null,
      "metadata": {
        "id": "CMRBMM0mf0mB"
      },
      "outputs": [],
      "source": [
        "import matplotlib.pyplot as plt\n",
        "\n",
        "# Select only the columns you want to plot\n",
        "df_subset = graph_df[['travel_time', 'car_travel_time', 'ebike_travel_time']]\n",
        "\n",
        "# Plot the data\n",
        "ax = df_subset.plot(kind='bar', figsize=(10,6))\n",
        "\n",
        "# Set the plot title and axes labels\n",
        "ax.set_title(\"Travel Times by Transportation Type and Route\")\n",
        "ax.set_xlabel(\"Route\")\n",
        "ax.set_ylabel(\"Travel Time\")\n",
        "\n",
        "# Show the plot\n",
        "plt.show()"
      ]
    },
    {
      "cell_type": "code",
      "execution_count": null,
      "metadata": {
        "id": "bw5b9hfHj48h"
      },
      "outputs": [],
      "source": [
        "output_data"
      ]
    },
    {
      "cell_type": "code",
      "execution_count": null,
      "metadata": {
        "id": "garTJ_Rb-xib"
      },
      "outputs": [],
      "source": [
        "import matplotlib.pyplot as plt\n",
        "\n",
        "# Generate scatter plot\n",
        "fig, ax = plt.subplots()\n",
        "ax.scatter(output_data['ebike_travel_time'], output_data['travel_time'], c=['green' if diff >= -300 else 'red' for diff in output_data['time_diff']])\n",
        "\n",
        "# Set axis labels and title\n",
        "ax.set_xlabel('Ebike Travel Time (s)')\n",
        "ax.set_ylabel('Bike Travel Time (s)')\n",
        "ax.set_title('Bike vs Ebike Travel Times')\n"
      ]
    },
    {
      "cell_type": "code",
      "execution_count": null,
      "metadata": {
        "id": "X-7NWDiE8h1U"
      },
      "outputs": [],
      "source": [
        "import matplotlib.pyplot as plt\n",
        "\n",
        "# Generate scatter plot\n",
        "fig, ax = plt.subplots()\n",
        "ax.scatter(output_data['car_travel_time'], output_data['car_emissions'])\n",
        "\n",
        "# Set axis labels and title\n",
        "ax.set_xlabel('Car Travel Time (s)')\n",
        "ax.set_ylabel('CO2 Emissions (pounds)')\n",
        "ax.set_title('Car Travel and Emissions')"
      ]
    },
    {
      "cell_type": "code",
      "execution_count": null,
      "metadata": {
        "id": "IcyEKEyMEVSi"
      },
      "outputs": [],
      "source": [
        "import seaborn as sns\n",
        "import matplotlib.pyplot as plt\n",
        "\n",
        "# Create a new dataframe with the emissions data\n",
        "emissions_df = output_data[['car_emissions', 'ebike_emissions', 'bike_emissions']]\n",
        "\n",
        "# Reshape the dataframe to a long format using the `melt()` function\n",
        "emissions_df = emissions_df.reset_index()\n",
        "emissions_df = emissions_df.melt(id_vars=['index'], value_vars=['car_emissions', 'ebike_emissions', 'bike_emissions'])\n",
        "emissions_df.columns = ['index', 'Transportation', 'Emissions']\n",
        "\n",
        "# Create the grouped bar chart using Seaborn\n",
        "sns.set_style('whitegrid')\n",
        "g = sns.catplot(x='Transportation', y='Emissions', data=emissions_df, kind='bar', alpha=0.5, legend=False)\n",
        "\n",
        "# Set the axis labels and title\n",
        "g.set_axis_labels('Route', 'Emissions (lb CO2e per mile)')\n",
        "plt.title('Emissions by Mode of Transportation')\n",
        "\n",
        "# Add the legend\n",
        "plt.legend(loc='upper right')\n",
        "\n",
        "# Show the plot\n",
        "plt.show()"
      ]
    },
    {
      "cell_type": "code",
      "execution_count": null,
      "metadata": {
        "id": "w3M0VP1Un-El"
      },
      "outputs": [],
      "source": [
        "!pip install traveltimepy"
      ]
    },
    {
      "cell_type": "markdown",
      "metadata": {
        "id": "RwSzX7NmqQDX"
      },
      "source": [
        "\n",
        "    sdk = TravelTimeSdk('670bfd71', 'bebf824da7db22390eec6f0b04ccf3c3')"
      ]
    },
    {
      "cell_type": "code",
      "execution_count": null,
      "metadata": {
        "id": "-VK3QmAbksUM"
      },
      "outputs": [],
      "source": [
        "import requests\n",
        "import json\n",
        "import random\n",
        "import string\n",
        "\n",
        "def generate_random_id():\n",
        "    characters = string.ascii_uppercase + string.digits\n",
        "    return ''.join(random.choice(characters) for _ in range(5))\n",
        "\n",
        "\n",
        "# Set up your API credentials and endpoint URL\n",
        "api_id = '670bfd71'\n",
        "api_key = 'bebf824da7db22390eec6f0b04ccf3c3'\n",
        "endpoint_url = 'https://api.traveltimeapp.com/v4/time-filter'\n",
        "all_data = ''\n",
        "\n",
        "\n",
        "headers = {\n",
        "    'Content-Type': 'application/json',\n",
        "    'Accept': 'application/json',\n",
        "    'X-Application-Id': '670bfd71',\n",
        "    'X-Api-Key': 'bebf824da7db22390eec6f0b04ccf3c3'\n",
        "}\n",
        "\n",
        "#start_lat_lon = (41.71391, -111.83517) #South branch of Domino Pizza\n",
        "start_lat_lon = (41.75312339358314, -111.83486333648153)  # North branch of Domino Pizza\n",
        "\n",
        "locations = [{\"id\": \"Dominoes_North\", \"coords\": {\"lat\": 41.75312339358314, \"lng\": -111.83486333648153}}]\n",
        "data_list = []\n",
        "\n",
        "for index, row in output_data.iterrows():\n",
        "    data = {\"id\": generate_random_id(), \"coords\": {\"lat\": row[\"end_lat\"], \"lng\": row[\"end_lon\"]}}\n",
        "    data_list.append(data)\n",
        "\n",
        "departure_times = [\n",
        "    \"2019-01-16T11:00:00Z\",\n",
        "    \"2019-01-16T12:00:00Z\",\n",
        "    \"2019-01-16T13:00:00Z\",\n",
        "    \"2019-01-16T14:00:00Z\",\n",
        "    \"2019-01-16T15:00:00Z\",\n",
        "    \"2019-01-16T16:00:00Z\",\n",
        "    \"2019-01-16T17:00:00Z\",\n",
        "    \"2019-01-16T18:00:00Z\",\n",
        "    \"2019-01-16T19:00:00Z\",\n",
        "    \"2019-01-16T20:00:00Z\",\n",
        "    \"2019-01-16T21:00:00Z\",\n",
        "    \"2019-01-19T11:00:00Z\",\n",
        "    \"2019-01-19T12:00:00Z\",\n",
        "    \"2019-01-19T13:00:00Z\",\n",
        "    \"2019-01-19T14:00:00Z\",\n",
        "    \"2019-01-19T15:00:00Z\",\n",
        "    \"2019-01-19T16:00:00Z\",\n",
        "    \"2019-01-19T17:00:00Z\",\n",
        "    \"2019-01-19T18:00:00Z\",\n",
        "    \"2019-01-19T19:00:00Z\",\n",
        "    \"2019-01-19T20:00:00Z\",\n",
        "    \"2019-01-19T21:00:00Z\",\n",
        "]\n",
        "\n",
        "responses = []\n",
        "for departure_time in departure_times:\n",
        "  body = {\n",
        "      \"locations\": locations + data_list,\n",
        "      \"departure_searches\": [\n",
        "          {\n",
        "              \"id\": \"One-to-many Matrix\",\n",
        "              \"departure_location_id\": \"Dominoes_North\",\n",
        "              \"arrival_location_ids\": [d[\"id\"] for d in data_list],\n",
        "              \"departure_time\": departure_time,\n",
        "              \"travel_time\": 3600,\n",
        "              \"properties\": [\"travel_time\", \"distance\"],\n",
        "              \"transportation\": {\"type\": \"driving\"}\n",
        "          }\n",
        "      ]\n",
        "  }\n",
        "\n",
        "  # Make the API call and get the response\n",
        "  response = requests.post(endpoint_url, headers=headers, json=body)\n",
        "\n",
        "  # Print the response content (this should be a JSON object)\n",
        "  print(response.content)\n",
        "\n",
        "  result_str = response.content\n",
        "  responses.append(result_str)"
      ]
    },
    {
      "cell_type": "code",
      "execution_count": null,
      "metadata": {
        "id": "RhQB-Ou_7dYN"
      },
      "outputs": [],
      "source": [
        "import json\n",
        "import pandas as pd\n",
        "\n",
        "# Create a list of dictionaries to represent the data\n",
        "test_list = []  \n",
        "\n",
        "for index, i in enumerate(responses):\n",
        "    # Assuming the string is stored in a variable called \"result_str\"\n",
        "    # First, decode the bytes string to a regular string\n",
        "    result_str = i.decode('utf-8')\n",
        "\n",
        "    # Load the JSON string into a Python dictionary\n",
        "    result_dict = json.loads(result_str)\n",
        "\n",
        "    # Extract the \"locations\" data from the dictionary\n",
        "    locations = result_dict['results'][0]['locations']\n",
        "\n",
        "    for location in locations:\n",
        "        properties = location['properties'][0]\n",
        "        data_dict = {'id': location['id'], 'travel_time': properties['travel_time'], 'distance': properties['distance'], 'departure_time': departure_times[index]}\n",
        "        test_list.append(data_dict)\n",
        "\n",
        "# Convert the list of dictionaries to a dataframe\n",
        "df = pd.DataFrame(test_list)"
      ]
    },
    {
      "cell_type": "code",
      "execution_count": null,
      "metadata": {
        "id": "-bm_sUnx9Dfr"
      },
      "outputs": [],
      "source": [
        "df.head()"
      ]
    },
    {
      "cell_type": "code",
      "execution_count": null,
      "metadata": {
        "id": "2Y8Tn84IsddM"
      },
      "outputs": [],
      "source": [
        "import calendar\n",
        "\n",
        "def convert_time(date_str):\n",
        "  # Extract day of the week\n",
        "  day_of_week_str = date_str[:10]\n",
        "  # Convert to day of the week (0 = Monday, 6 = Sunday)\n",
        "  day_of_week = (datetime.datetime.strptime(day_of_week_str, '%Y-%m-%d').weekday()) % 7\n",
        "  weekday_name = calendar.day_name[day_of_week]\n",
        "  # Extract time\n",
        "  time = date_str[11:16]\n",
        "\n",
        "  return {'date': weekday_name, 'time': time}\n",
        "\n",
        "new_columns = df['departure_time'].apply(convert_time).apply(pd.Series)\n",
        "df = pd.concat([df, new_columns], axis=1)"
      ]
    },
    {
      "cell_type": "code",
      "execution_count": null,
      "metadata": {
        "id": "Ll20dZ7Svh7R"
      },
      "outputs": [],
      "source": [
        "df.head()"
      ]
    },
    {
      "cell_type": "code",
      "execution_count": null,
      "metadata": {
        "id": "ontDEHffkzc9"
      },
      "outputs": [],
      "source": [
        "import seaborn as sns\n",
        "import matplotlib.pyplot as plt\n",
        "\n",
        "# Set the style and size of the plot\n",
        "sns.set_style('whitegrid')\n",
        "plt.figure(figsize=(10, 6))\n",
        "\n",
        "# Create the line plot\n",
        "sns.lineplot(x='time', y='travel_time', hue='date', data=df)\n",
        "\n",
        "# Add axis labels and a title\n",
        "plt.xlabel('Departure Time')\n",
        "plt.ylabel('Travel Time (seconds)')\n",
        "plt.title('Travel Time vs Departure Time')\n",
        "\n",
        "# Rotate the x-axis labels for better readability\n",
        "plt.xticks(rotation=45)\n",
        "\n",
        "# Display the plot\n",
        "plt.show()\n"
      ]
    },
    {
      "cell_type": "code",
      "execution_count": null,
      "metadata": {
        "id": "YafAaHfVyTXN"
      },
      "outputs": [],
      "source": [
        "df.shape"
      ]
    },
    {
      "cell_type": "code",
      "execution_count": null,
      "metadata": {
        "id": "6D1q4stJyWvJ"
      },
      "outputs": [],
      "source": [
        "output_data.shape"
      ]
    }
  ],
  "metadata": {
    "colab": {
      "provenance": []
    },
    "kernelspec": {
      "display_name": "Python 3",
      "name": "python3"
    },
    "language_info": {
      "name": "python"
    }
  },
  "nbformat": 4,
  "nbformat_minor": 0
}